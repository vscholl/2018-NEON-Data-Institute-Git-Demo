{
 "cells": [
  {
   "cell_type": "markdown",
   "metadata": {},
   "source": [
    "## Code to extract and plot spectra from a single NEON AOP pixel \n",
    "\n",
    "Victoria Scholl \n",
    "\n",
    "July 10, 2018 \n",
    "\n",
    "victoria.scholl@colorado.edu \n",
    "\n",
    "\n",
    "The goal is to extract a single pixel from a hyperspectral hdf5 file and plot 3 figures, both with/without removing the bad bands on unusable data. We also want to export a .csv of the cleaned wavelength and reflectance info for use later. "
   ]
  },
  {
   "cell_type": "code",
   "execution_count": 1,
   "metadata": {},
   "outputs": [],
   "source": [
    "import h5py\n",
    "import numpy as np\n",
    "import pandas as pd\n",
    "import matplotlib.pyplot as plt\n",
    "from copy import copy \n",
    "import IPython\n",
    "%matplotlib inline"
   ]
  },
  {
   "cell_type": "code",
   "execution_count": 2,
   "metadata": {},
   "outputs": [
    {
     "data": {
      "text/plain": [
       "'../data/NEON_D17_SJER_DP1_20180401_184649_reflectance.h5'"
      ]
     },
     "execution_count": 2,
     "metadata": {},
     "output_type": "execute_result"
    }
   ],
   "source": [
    "# Define path to reflectance data, within the parent directory \n",
    "refl_filename = ('../data/NEON_D17_SJER_DP1_20180401_184649_reflectance.h5')\n",
    "refl_filename"
   ]
  },
  {
   "cell_type": "code",
   "execution_count": 3,
   "metadata": {},
   "outputs": [
    {
     "data": {
      "text/plain": [
       "(100, 100)"
      ]
     },
     "execution_count": 3,
     "metadata": {},
     "output_type": "execute_result"
    }
   ],
   "source": [
    "# Specify y,x coordinates of pixel to plot \n",
    "pixel_to_plot = (100,100)\n",
    "pixel_to_plot"
   ]
  },
  {
   "cell_type": "code",
   "execution_count": 4,
   "metadata": {},
   "outputs": [
    {
     "data": {
      "text/plain": [
       "<HDF5 file \"NEON_D17_SJER_DP1_20180401_184649_reflectance.h5\" (mode r)>"
      ]
     },
     "execution_count": 4,
     "metadata": {},
     "output_type": "execute_result"
    }
   ],
   "source": [
    "# Read in reflectance hdf5 file \n",
    "hdf5_file = h5py.File(refl_filename, 'r')\n",
    "hdf5_file"
   ]
  },
  {
   "cell_type": "code",
   "execution_count": 5,
   "metadata": {},
   "outputs": [
    {
     "data": {
      "text/plain": [
       "'[(\\'SJER\\', <HDF5 group \"/SJER\" (1 members)>)]'"
      ]
     },
     "execution_count": 5,
     "metadata": {},
     "output_type": "execute_result"
    }
   ],
   "source": [
    "# Get the filename for parsing\n",
    "file_attrs_string = str(list(hdf5_file.items()))\n",
    "file_attrs_string"
   ]
  },
  {
   "cell_type": "code",
   "execution_count": 6,
   "metadata": {},
   "outputs": [
    {
     "data": {
      "text/plain": [
       "['[(', 'SJER', ', <HDF5 group \"/SJER\" (1 members)>)]']"
      ]
     },
     "execution_count": 6,
     "metadata": {},
     "output_type": "execute_result"
    }
   ],
   "source": [
    "# Split the string using a single quote delimiter\n",
    "file_attrs_string_split = file_attrs_string.split(\"'\")\n",
    "file_attrs_string_split"
   ]
  },
  {
   "cell_type": "code",
   "execution_count": 7,
   "metadata": {},
   "outputs": [
    {
     "data": {
      "text/plain": [
       "'SJER'"
      ]
     },
     "execution_count": 7,
     "metadata": {},
     "output_type": "execute_result"
    }
   ],
   "source": [
    "# Extract the site name, to dynamically name output \n",
    "sitename = file_attrs_string_split[1]\n",
    "sitename"
   ]
  },
  {
   "cell_type": "code",
   "execution_count": 8,
   "metadata": {},
   "outputs": [
    {
     "data": {
      "text/plain": [
       "<HDF5 group \"/SJER/Reflectance\" (2 members)>"
      ]
     },
     "execution_count": 8,
     "metadata": {},
     "output_type": "execute_result"
    }
   ],
   "source": [
    "# Extract the reflectance  \n",
    "refl = hdf5_file[sitename]['Reflectance']\n",
    "refl"
   ]
  },
  {
   "cell_type": "code",
   "execution_count": 9,
   "metadata": {},
   "outputs": [
    {
     "data": {
      "text/plain": [
       "['Description',\n",
       " 'Sensor',\n",
       " 'PayloadID',\n",
       " 'Scripts',\n",
       " 'Acquisition_Time',\n",
       " 'Band_Window_1_Nanometers',\n",
       " 'Band_Window_2_Nanometers']"
      ]
     },
     "execution_count": 9,
     "metadata": {},
     "output_type": "execute_result"
    }
   ],
   "source": [
    "list(refl.attrs)"
   ]
  },
  {
   "cell_type": "code",
   "execution_count": 10,
   "metadata": {},
   "outputs": [
    {
     "data": {
      "text/plain": [
       "<HDF5 dataset \"Reflectance_Data\": shape (216, 699, 426), type \"<i2\">"
      ]
     },
     "execution_count": 10,
     "metadata": {},
     "output_type": "execute_result"
    }
   ],
   "source": [
    "# Get reflectance data \n",
    "reflData = refl['Reflectance_Data']\n",
    "reflData"
   ]
  },
  {
   "cell_type": "code",
   "execution_count": 14,
   "metadata": {},
   "outputs": [
    {
     "data": {
      "text/plain": [
       "array([[[-9999, -9999, -9999, ..., -9999, -9999, -9999],\n",
       "        [-9999, -9999, -9999, ..., -9999, -9999, -9999],\n",
       "        [-9999, -9999, -9999, ..., -9999, -9999, -9999],\n",
       "        ...,\n",
       "        [-9999, -9999, -9999, ..., -9999, -9999, -9999],\n",
       "        [-9999, -9999, -9999, ..., -9999, -9999, -9999],\n",
       "        [-9999, -9999, -9999, ..., -9999, -9999, -9999]],\n",
       "\n",
       "       [[-9999, -9999, -9999, ..., -9999, -9999, -9999],\n",
       "        [-9999, -9999, -9999, ..., -9999, -9999, -9999],\n",
       "        [-9999, -9999, -9999, ..., -9999, -9999, -9999],\n",
       "        ...,\n",
       "        [-9999, -9999, -9999, ..., -9999, -9999, -9999],\n",
       "        [-9999, -9999, -9999, ..., -9999, -9999, -9999],\n",
       "        [-9999, -9999, -9999, ..., -9999, -9999, -9999]],\n",
       "\n",
       "       [[-9999, -9999, -9999, ..., -9999, -9999, -9999],\n",
       "        [-9999, -9999, -9999, ..., -9999, -9999, -9999],\n",
       "        [-9999, -9999, -9999, ..., -9999, -9999, -9999],\n",
       "        ...,\n",
       "        [-9999, -9999, -9999, ..., -9999, -9999, -9999],\n",
       "        [-9999, -9999, -9999, ..., -9999, -9999, -9999],\n",
       "        [-9999, -9999, -9999, ..., -9999, -9999, -9999]],\n",
       "\n",
       "       ...,\n",
       "\n",
       "       [[-9999, -9999, -9999, ..., -9999, -9999, -9999],\n",
       "        [-9999, -9999, -9999, ..., -9999, -9999, -9999],\n",
       "        [-9999, -9999, -9999, ..., -9999, -9999, -9999],\n",
       "        ...,\n",
       "        [-9999, -9999, -9999, ..., -9999, -9999, -9999],\n",
       "        [-9999, -9999, -9999, ..., -9999, -9999, -9999],\n",
       "        [-9999, -9999, -9999, ..., -9999, -9999, -9999]],\n",
       "\n",
       "       [[-9999, -9999, -9999, ..., -9999, -9999, -9999],\n",
       "        [-9999, -9999, -9999, ..., -9999, -9999, -9999],\n",
       "        [-9999, -9999, -9999, ..., -9999, -9999, -9999],\n",
       "        ...,\n",
       "        [-9999, -9999, -9999, ..., -9999, -9999, -9999],\n",
       "        [-9999, -9999, -9999, ..., -9999, -9999, -9999],\n",
       "        [-9999, -9999, -9999, ..., -9999, -9999, -9999]],\n",
       "\n",
       "       [[-9999, -9999, -9999, ..., -9999, -9999, -9999],\n",
       "        [-9999, -9999, -9999, ..., -9999, -9999, -9999],\n",
       "        [-9999, -9999, -9999, ..., -9999, -9999, -9999],\n",
       "        ...,\n",
       "        [-9999, -9999, -9999, ..., -9999, -9999, -9999],\n",
       "        [-9999, -9999, -9999, ..., -9999, -9999, -9999],\n",
       "        [-9999, -9999, -9999, ..., -9999, -9999, -9999]]], dtype=int16)"
      ]
     },
     "execution_count": 14,
     "metadata": {},
     "output_type": "execute_result"
    }
   ],
   "source": [
    "# Get raw values for reflectance data \n",
    "reflRaw = refl['Reflectance_Data'].value\n",
    "reflRaw"
   ]
  },
  {
   "cell_type": "code",
   "execution_count": null,
   "metadata": {},
   "outputs": [],
   "source": []
  }
 ],
 "metadata": {
  "kernelspec": {
   "display_name": "Python 3",
   "language": "python",
   "name": "python3"
  },
  "language_info": {
   "codemirror_mode": {
    "name": "ipython",
    "version": 3
   },
   "file_extension": ".py",
   "mimetype": "text/x-python",
   "name": "python",
   "nbconvert_exporter": "python",
   "pygments_lexer": "ipython3",
   "version": "3.5.5"
  }
 },
 "nbformat": 4,
 "nbformat_minor": 2
}
